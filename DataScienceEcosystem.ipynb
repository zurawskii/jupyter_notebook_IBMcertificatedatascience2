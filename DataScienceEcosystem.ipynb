{
 "cells": [
  {
   "cell_type": "markdown",
   "id": "7ff949e1-8fdb-48cc-a882-82339c8db97d",
   "metadata": {},
   "source": [
    "# Data Science Tools and Ecosystem"
   ]
  },
  {
   "cell_type": "markdown",
   "id": "297f82ee-a9ca-4803-bee7-02cb3d868545",
   "metadata": {},
   "source": [
    "In this notebook, Data Science Tools and Ecosystem are summarized."
   ]
  },
  {
   "cell_type": "markdown",
   "id": "c264ba65-1cdc-476f-be96-43ded0528662",
   "metadata": {},
   "source": [
    "Some of the popular languages that Data Scientists use are:\n",
    "1. Python\n",
    "2. SQL\n",
    "3. R"
   ]
  },
  {
   "cell_type": "markdown",
   "id": "c490f206-f65d-4726-a9b3-930977dc59f4",
   "metadata": {},
   "source": [
    "Some of the commonly used libraries used by Data Scientists include:\n",
    "1. Pandas\n",
    "2. NumPy\n",
    "3. Scikit-learn\n",
    "4. ggplot\n",
    "5. caret"
   ]
  },
  {
   "cell_type": "markdown",
   "id": "0995dab4-ccba-48bc-822c-1c7a0d6009b9",
   "metadata": {},
   "source": [
    "| Data Science Tools |\n",
    "| --- |\n",
    "| Anaconda |\n",
    "| GIT |\n",
    "| GITHUB |"
   ]
  },
  {
   "cell_type": "markdown",
   "id": "d04b3f79-ebbe-4331-b6ba-ae8a0398b76d",
   "metadata": {},
   "source": [
    "### Below are a few examples of evaluating arithmetic expressions in Python"
   ]
  },
  {
   "cell_type": "markdown",
   "id": "fcdc7011-ec1f-4132-936a-f72152b2f09f",
   "metadata": {},
   "source": [
    "[//]: # \"This a simple arithmetic expression to mutiply then add integers\""
   ]
  },
  {
   "cell_type": "code",
   "execution_count": 8,
   "id": "05ca161c-15ba-4324-a5da-58ee2f00a9c8",
   "metadata": {},
   "outputs": [
    {
     "data": {
      "text/plain": [
       "17"
      ]
     },
     "execution_count": 8,
     "metadata": {},
     "output_type": "execute_result"
    }
   ],
   "source": [
    "(3*4)+5"
   ]
  },
  {
   "cell_type": "markdown",
   "id": "282210b2-d172-4d4d-9e1a-b383b4f0f67b",
   "metadata": {},
   "source": [
    "[//]: # \"This will convert 200 minutes to hours by diving by 60\""
   ]
  },
  {
   "cell_type": "code",
   "execution_count": 9,
   "id": "58742b3b-82c8-446f-8ae3-de4759213746",
   "metadata": {},
   "outputs": [
    {
     "data": {
      "text/plain": [
       "3.3333333333333335"
      ]
     },
     "execution_count": 9,
     "metadata": {},
     "output_type": "execute_result"
    }
   ],
   "source": [
    "200/60"
   ]
  },
  {
   "cell_type": "markdown",
   "id": "796a495b-555b-4917-baa6-e7593775f95f",
   "metadata": {},
   "source": [
    "#### List popular languages for Data Science\n",
    "* Python\n",
    "* SQL\n",
    "* Julia\n",
    "* Scala\n",
    "* R"
   ]
  },
  {
   "cell_type": "markdown",
   "id": "a3d52264",
   "metadata": {},
   "source": [
    "## Paweł Żurawski"
   ]
  }
 ],
 "metadata": {
  "kernelspec": {
   "display_name": "Python 3 (ipykernel)",
   "language": "python",
   "name": "python3"
  },
  "language_info": {
   "codemirror_mode": {
    "name": "ipython",
    "version": 3
   },
   "file_extension": ".py",
   "mimetype": "text/x-python",
   "name": "python",
   "nbconvert_exporter": "python",
   "pygments_lexer": "ipython3",
   "version": "3.9.13"
  }
 },
 "nbformat": 4,
 "nbformat_minor": 5
}
